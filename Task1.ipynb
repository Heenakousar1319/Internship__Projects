{
  "nbformat": 4,
  "nbformat_minor": 0,
  "metadata": {
    "colab": {
      "provenance": [],
      "include_colab_link": true
    },
    "kernelspec": {
      "name": "python3",
      "display_name": "Python 3"
    },
    "language_info": {
      "name": "python"
    }
  },
  "cells": [
    {
      "cell_type": "markdown",
      "metadata": {
        "id": "view-in-github",
        "colab_type": "text"
      },
      "source": [
        "<a href=\"https://colab.research.google.com/github/Heenakousar1319/Internship__Projects/blob/main/Task1.ipynb\" target=\"_parent\"><img src=\"https://colab.research.google.com/assets/colab-badge.svg\" alt=\"Open In Colab\"/></a>"
      ]
    },
    {
      "cell_type": "code",
      "execution_count": null,
      "metadata": {
        "id": "7-9bugeC_O-w"
      },
      "outputs": [],
      "source": [
        "import pandas as pd\n",
        "import numpy as np\n",
        "import matplotlib.pyplot as plt\n",
        "import seaborn as sns"
      ]
    },
    {
      "cell_type": "code",
      "source": [
        "# Load the dataset\n",
        "train_data = pd.read_csv('train.csv')\n",
        "\n",
        "# Display the first few rows of the dataset\n",
        "print(\"First few rows of the training data:\")\n",
        "print(train_data.head(), '\\n')"
      ],
      "metadata": {
        "colab": {
          "base_uri": "https://localhost:8080/"
        },
        "id": "3rZ5_7gg_rGU",
        "outputId": "ea4829ee-3a64-4993-a7fe-1dab431012e1"
      },
      "execution_count": null,
      "outputs": [
        {
          "output_type": "stream",
          "name": "stdout",
          "text": [
            "First few rows of the training data:\n",
            "   PassengerId  Survived  Pclass  \\\n",
            "0            1         0       3   \n",
            "1            2         1       1   \n",
            "2            3         1       3   \n",
            "3            4         1       1   \n",
            "4            5         0       3   \n",
            "\n",
            "                                                Name     Sex   Age  SibSp  \\\n",
            "0                            Braund, Mr. Owen Harris    male  22.0      1   \n",
            "1  Cumings, Mrs. John Bradley (Florence Briggs Th...  female  38.0      1   \n",
            "2                             Heikkinen, Miss. Laina  female  26.0      0   \n",
            "3       Futrelle, Mrs. Jacques Heath (Lily May Peel)  female  35.0      1   \n",
            "4                           Allen, Mr. William Henry    male  35.0      0   \n",
            "\n",
            "   Parch            Ticket     Fare Cabin Embarked  \n",
            "0      0         A/5 21171   7.2500   NaN        S  \n",
            "1      0          PC 17599  71.2833   C85        C  \n",
            "2      0  STON/O2. 3101282   7.9250   NaN        S  \n",
            "3      0            113803  53.1000  C123        S  \n",
            "4      0            373450   8.0500   NaN        S   \n",
            "\n"
          ]
        }
      ]
    },
    {
      "cell_type": "code",
      "source": [
        "# Check for missing values\n",
        "missing_values = train_data.isnull().sum()\n",
        "print(\"Missing values in each column:\")\n",
        "print(missing_values[missing_values > 0], '\\n')"
      ],
      "metadata": {
        "colab": {
          "base_uri": "https://localhost:8080/"
        },
        "id": "rnG1nNHN_vsT",
        "outputId": "75a2f883-71de-47ab-de56-1adbae515c97"
      },
      "execution_count": null,
      "outputs": [
        {
          "output_type": "stream",
          "name": "stdout",
          "text": [
            "Missing values in each column:\n",
            "Age         177\n",
            "Cabin       687\n",
            "Embarked      2\n",
            "dtype: int64 \n",
            "\n"
          ]
        }
      ]
    },
    {
      "cell_type": "code",
      "source": [
        "# Fill missing Age with the median\n",
        "train_data['Age'] = train_data['Age'].fillna(train_data['Age'].median())\n",
        "\n",
        "# Drop rows with missing Fare values (if any)\n",
        "train_data = train_data.dropna(subset=['Fare'])\n",
        "\n",
        "# Verify missing values after handling\n",
        "print(\"Missing values after handling:\")\n",
        "print(train_data.isnull().sum(), '\\n')"
      ],
      "metadata": {
        "colab": {
          "base_uri": "https://localhost:8080/"
        },
        "id": "rWm6y8QM_2kl",
        "outputId": "f76686d2-2411-41f4-a32a-9ad9b200dddd"
      },
      "execution_count": null,
      "outputs": [
        {
          "output_type": "stream",
          "name": "stdout",
          "text": [
            "Missing values after handling:\n",
            "PassengerId      0\n",
            "Survived         0\n",
            "Pclass           0\n",
            "Name             0\n",
            "Sex              0\n",
            "Age              0\n",
            "SibSp            0\n",
            "Parch            0\n",
            "Ticket           0\n",
            "Fare             0\n",
            "Cabin          687\n",
            "Embarked         2\n",
            "dtype: int64 \n",
            "\n"
          ]
        }
      ]
    },
    {
      "cell_type": "code",
      "source": [
        "# Function to detect outliers using the IQR method\n",
        "def detect_outliers_iqr(data, column):\n",
        "    Q1 = data[column].quantile(0.25)\n",
        "    Q3 = data[column].quantile(0.75)\n",
        "    IQR = Q3 - Q1\n",
        "    lower_bound = Q1 - 1.5 * IQR\n",
        "    upper_bound = Q3 + 1.5 * IQR\n",
        "    return data[(data[column] < lower_bound) | (data[column] > upper_bound)]"
      ],
      "metadata": {
        "id": "2DIYlXvs_4wy"
      },
      "execution_count": null,
      "outputs": []
    },
    {
      "cell_type": "code",
      "source": [
        "\n",
        "# Identify outliers in Age and Fare\n",
        "age_outliers = detect_outliers_iqr(train_data, 'Age')\n",
        "fare_outliers = detect_outliers_iqr(train_data, 'Fare')"
      ],
      "metadata": {
        "id": "_62foSID_8zF"
      },
      "execution_count": null,
      "outputs": []
    },
    {
      "cell_type": "code",
      "source": [
        "# Print the number of outliers detected\n",
        "print(f\"Number of outliers in Age: {len(age_outliers)}\")\n",
        "print(f\"Number of outliers in Fare: {len(fare_outliers)}\\n\")"
      ],
      "metadata": {
        "colab": {
          "base_uri": "https://localhost:8080/"
        },
        "id": "8poLMHwa__m6",
        "outputId": "3d0edae0-c6d5-4ba6-db24-a2d0ff7a5354"
      },
      "execution_count": null,
      "outputs": [
        {
          "output_type": "stream",
          "name": "stdout",
          "text": [
            "Number of outliers in Age: 66\n",
            "Number of outliers in Fare: 116\n",
            "\n"
          ]
        }
      ]
    },
    {
      "cell_type": "code",
      "source": [
        "# Remove outliers from the dataset\n",
        "train_data = train_data[~train_data['Age'].isin(age_outliers['Age'])]\n",
        "train_data = train_data[~train_data['Fare'].isin(fare_outliers['Fare'])]"
      ],
      "metadata": {
        "id": "pe5Ouc4VAEa-"
      },
      "execution_count": null,
      "outputs": []
    },
    {
      "cell_type": "code",
      "source": [
        "# Verify the shape of the cleaned dataset\n",
        "print(f\"Shape of dataset after removing outliers: {train_data.shape}\\n\")"
      ],
      "metadata": {
        "colab": {
          "base_uri": "https://localhost:8080/"
        },
        "id": "z9Hmi_PpAH54",
        "outputId": "3d724058-f3d3-45e4-8f9a-827871192dea"
      },
      "execution_count": null,
      "outputs": [
        {
          "output_type": "stream",
          "name": "stdout",
          "text": [
            "Shape of dataset after removing outliers: (721, 12)\n",
            "\n"
          ]
        }
      ]
    },
    {
      "cell_type": "code",
      "source": [
        "# Check for remaining missing values\n",
        "print(\"Remaining missing values in each column:\")\n",
        "print(train_data.isnull().sum(), '\\n')\n",
        "\n",
        "# Check for outliers again\n",
        "remaining_age_outliers = detect_outliers_iqr(train_data, 'Age')\n",
        "remaining_fare_outliers = detect_outliers_iqr(train_data, 'Fare')\n",
        "\n",
        "print(f\"Remaining number of outliers in Age: {len(remaining_age_outliers)}\")\n",
        "print(f\"Remaining number of outliers in Fare: {len(remaining_fare_outliers)}\\n\")"
      ],
      "metadata": {
        "colab": {
          "base_uri": "https://localhost:8080/"
        },
        "id": "kfy9UthTALDh",
        "outputId": "341f3db6-429f-4204-acc6-4952252cbc7d"
      },
      "execution_count": null,
      "outputs": [
        {
          "output_type": "stream",
          "name": "stdout",
          "text": [
            "Remaining missing values in each column:\n",
            "PassengerId      0\n",
            "Survived         0\n",
            "Pclass           0\n",
            "Name             0\n",
            "Sex              0\n",
            "Age              0\n",
            "SibSp            0\n",
            "Parch            0\n",
            "Ticket           0\n",
            "Fare             0\n",
            "Cabin          623\n",
            "Embarked         0\n",
            "dtype: int64 \n",
            "\n",
            "Remaining number of outliers in Age: 42\n",
            "Remaining number of outliers in Fare: 24\n",
            "\n"
          ]
        }
      ]
    },
    {
      "cell_type": "code",
      "source": [
        "import pandas as pd\n",
        "\n",
        "# Example of loading and cleaning data\n",
        "raw_train_data = pd.read_csv('gender_submission.csv')\n",
        "cleaned_train_data = raw_train_data.dropna()  # Example cleaning step\n"
      ],
      "metadata": {
        "id": "8A7css6mAQhE"
      },
      "execution_count": null,
      "outputs": []
    },
    {
      "cell_type": "code",
      "source": [
        "print(\"\\nCleaned Training Data:\")\n",
        "print(cleaned_train_data.head())\n"
      ],
      "metadata": {
        "colab": {
          "base_uri": "https://localhost:8080/"
        },
        "id": "H0O9q_XHBBvG",
        "outputId": "cd19f289-81c1-4ebb-9a28-4c462f96dac8"
      },
      "execution_count": null,
      "outputs": [
        {
          "output_type": "stream",
          "name": "stdout",
          "text": [
            "\n",
            "Cleaned Training Data:\n",
            "   PassengerId  Survived\n",
            "0          892         0\n",
            "1          893         1\n",
            "2          894         0\n",
            "3          895         0\n",
            "4          896         1\n"
          ]
        }
      ]
    }
  ]
}